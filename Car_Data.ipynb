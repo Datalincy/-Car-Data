{
  "nbformat": 4,
  "nbformat_minor": 0,
  "metadata": {
    "colab": {
      "provenance": []
    },
    "kernelspec": {
      "name": "python3",
      "display_name": "Python 3"
    },
    "language_info": {
      "name": "python"
    }
  },
  "cells": [
    {
      "cell_type": "code",
      "execution_count": null,
      "metadata": {
        "id": "vgAUmTcQ7oU5"
      },
      "outputs": [],
      "source": [
        "import pandas as pd\n",
        "import numpy as np\n",
        "from sklearn.preprocessing import StandardScaler, MinMaxScaler, LabelEncoder, OneHotEncoder\n",
        "from sklearn.model_selection import train_test_split"
      ]
    },
    {
      "cell_type": "code",
      "source": [
        "df = pd.read_csv('/content/Car Data.csv')\n",
        "print(\"Original Data :\")\n",
        "print(df.head)"
      ],
      "metadata": {
        "colab": {
          "base_uri": "https://localhost:8080/",
          "height": 321
        },
        "id": "V0_FADZA8eF9",
        "outputId": "410936b0-8a4e-4a98-d8ac-7095823e4f96"
      },
      "execution_count": null,
      "outputs": [
        {
          "output_type": "error",
          "ename": "FileNotFoundError",
          "evalue": "[Errno 2] No such file or directory: '/content/Car Data.csv'",
          "traceback": [
            "\u001b[0;31m---------------------------------------------------------------------------\u001b[0m",
            "\u001b[0;31mFileNotFoundError\u001b[0m                         Traceback (most recent call last)",
            "\u001b[0;32m<ipython-input-2-1537589883b9>\u001b[0m in \u001b[0;36m<cell line: 0>\u001b[0;34m()\u001b[0m\n\u001b[0;32m----> 1\u001b[0;31m \u001b[0mdf\u001b[0m \u001b[0;34m=\u001b[0m \u001b[0mpd\u001b[0m\u001b[0;34m.\u001b[0m\u001b[0mread_csv\u001b[0m\u001b[0;34m(\u001b[0m\u001b[0;34m'/content/Car Data.csv'\u001b[0m\u001b[0;34m)\u001b[0m\u001b[0;34m\u001b[0m\u001b[0;34m\u001b[0m\u001b[0m\n\u001b[0m\u001b[1;32m      2\u001b[0m \u001b[0mprint\u001b[0m\u001b[0;34m(\u001b[0m\u001b[0;34m\"Original Data :\"\u001b[0m\u001b[0;34m)\u001b[0m\u001b[0;34m\u001b[0m\u001b[0;34m\u001b[0m\u001b[0m\n\u001b[1;32m      3\u001b[0m \u001b[0mprint\u001b[0m\u001b[0;34m(\u001b[0m\u001b[0mdf\u001b[0m\u001b[0;34m.\u001b[0m\u001b[0mhead\u001b[0m\u001b[0;34m)\u001b[0m\u001b[0;34m\u001b[0m\u001b[0;34m\u001b[0m\u001b[0m\n",
            "\u001b[0;32m/usr/local/lib/python3.11/dist-packages/pandas/io/parsers/readers.py\u001b[0m in \u001b[0;36mread_csv\u001b[0;34m(filepath_or_buffer, sep, delimiter, header, names, index_col, usecols, dtype, engine, converters, true_values, false_values, skipinitialspace, skiprows, skipfooter, nrows, na_values, keep_default_na, na_filter, verbose, skip_blank_lines, parse_dates, infer_datetime_format, keep_date_col, date_parser, date_format, dayfirst, cache_dates, iterator, chunksize, compression, thousands, decimal, lineterminator, quotechar, quoting, doublequote, escapechar, comment, encoding, encoding_errors, dialect, on_bad_lines, delim_whitespace, low_memory, memory_map, float_precision, storage_options, dtype_backend)\u001b[0m\n\u001b[1;32m   1024\u001b[0m     \u001b[0mkwds\u001b[0m\u001b[0;34m.\u001b[0m\u001b[0mupdate\u001b[0m\u001b[0;34m(\u001b[0m\u001b[0mkwds_defaults\u001b[0m\u001b[0;34m)\u001b[0m\u001b[0;34m\u001b[0m\u001b[0;34m\u001b[0m\u001b[0m\n\u001b[1;32m   1025\u001b[0m \u001b[0;34m\u001b[0m\u001b[0m\n\u001b[0;32m-> 1026\u001b[0;31m     \u001b[0;32mreturn\u001b[0m \u001b[0m_read\u001b[0m\u001b[0;34m(\u001b[0m\u001b[0mfilepath_or_buffer\u001b[0m\u001b[0;34m,\u001b[0m \u001b[0mkwds\u001b[0m\u001b[0;34m)\u001b[0m\u001b[0;34m\u001b[0m\u001b[0;34m\u001b[0m\u001b[0m\n\u001b[0m\u001b[1;32m   1027\u001b[0m \u001b[0;34m\u001b[0m\u001b[0m\n\u001b[1;32m   1028\u001b[0m \u001b[0;34m\u001b[0m\u001b[0m\n",
            "\u001b[0;32m/usr/local/lib/python3.11/dist-packages/pandas/io/parsers/readers.py\u001b[0m in \u001b[0;36m_read\u001b[0;34m(filepath_or_buffer, kwds)\u001b[0m\n\u001b[1;32m    618\u001b[0m \u001b[0;34m\u001b[0m\u001b[0m\n\u001b[1;32m    619\u001b[0m     \u001b[0;31m# Create the parser.\u001b[0m\u001b[0;34m\u001b[0m\u001b[0;34m\u001b[0m\u001b[0m\n\u001b[0;32m--> 620\u001b[0;31m     \u001b[0mparser\u001b[0m \u001b[0;34m=\u001b[0m \u001b[0mTextFileReader\u001b[0m\u001b[0;34m(\u001b[0m\u001b[0mfilepath_or_buffer\u001b[0m\u001b[0;34m,\u001b[0m \u001b[0;34m**\u001b[0m\u001b[0mkwds\u001b[0m\u001b[0;34m)\u001b[0m\u001b[0;34m\u001b[0m\u001b[0;34m\u001b[0m\u001b[0m\n\u001b[0m\u001b[1;32m    621\u001b[0m \u001b[0;34m\u001b[0m\u001b[0m\n\u001b[1;32m    622\u001b[0m     \u001b[0;32mif\u001b[0m \u001b[0mchunksize\u001b[0m \u001b[0;32mor\u001b[0m \u001b[0miterator\u001b[0m\u001b[0;34m:\u001b[0m\u001b[0;34m\u001b[0m\u001b[0;34m\u001b[0m\u001b[0m\n",
            "\u001b[0;32m/usr/local/lib/python3.11/dist-packages/pandas/io/parsers/readers.py\u001b[0m in \u001b[0;36m__init__\u001b[0;34m(self, f, engine, **kwds)\u001b[0m\n\u001b[1;32m   1618\u001b[0m \u001b[0;34m\u001b[0m\u001b[0m\n\u001b[1;32m   1619\u001b[0m         \u001b[0mself\u001b[0m\u001b[0;34m.\u001b[0m\u001b[0mhandles\u001b[0m\u001b[0;34m:\u001b[0m \u001b[0mIOHandles\u001b[0m \u001b[0;34m|\u001b[0m \u001b[0;32mNone\u001b[0m \u001b[0;34m=\u001b[0m \u001b[0;32mNone\u001b[0m\u001b[0;34m\u001b[0m\u001b[0;34m\u001b[0m\u001b[0m\n\u001b[0;32m-> 1620\u001b[0;31m         \u001b[0mself\u001b[0m\u001b[0;34m.\u001b[0m\u001b[0m_engine\u001b[0m \u001b[0;34m=\u001b[0m \u001b[0mself\u001b[0m\u001b[0;34m.\u001b[0m\u001b[0m_make_engine\u001b[0m\u001b[0;34m(\u001b[0m\u001b[0mf\u001b[0m\u001b[0;34m,\u001b[0m \u001b[0mself\u001b[0m\u001b[0;34m.\u001b[0m\u001b[0mengine\u001b[0m\u001b[0;34m)\u001b[0m\u001b[0;34m\u001b[0m\u001b[0;34m\u001b[0m\u001b[0m\n\u001b[0m\u001b[1;32m   1621\u001b[0m \u001b[0;34m\u001b[0m\u001b[0m\n\u001b[1;32m   1622\u001b[0m     \u001b[0;32mdef\u001b[0m \u001b[0mclose\u001b[0m\u001b[0;34m(\u001b[0m\u001b[0mself\u001b[0m\u001b[0;34m)\u001b[0m \u001b[0;34m->\u001b[0m \u001b[0;32mNone\u001b[0m\u001b[0;34m:\u001b[0m\u001b[0;34m\u001b[0m\u001b[0;34m\u001b[0m\u001b[0m\n",
            "\u001b[0;32m/usr/local/lib/python3.11/dist-packages/pandas/io/parsers/readers.py\u001b[0m in \u001b[0;36m_make_engine\u001b[0;34m(self, f, engine)\u001b[0m\n\u001b[1;32m   1878\u001b[0m                 \u001b[0;32mif\u001b[0m \u001b[0;34m\"b\"\u001b[0m \u001b[0;32mnot\u001b[0m \u001b[0;32min\u001b[0m \u001b[0mmode\u001b[0m\u001b[0;34m:\u001b[0m\u001b[0;34m\u001b[0m\u001b[0;34m\u001b[0m\u001b[0m\n\u001b[1;32m   1879\u001b[0m                     \u001b[0mmode\u001b[0m \u001b[0;34m+=\u001b[0m \u001b[0;34m\"b\"\u001b[0m\u001b[0;34m\u001b[0m\u001b[0;34m\u001b[0m\u001b[0m\n\u001b[0;32m-> 1880\u001b[0;31m             self.handles = get_handle(\n\u001b[0m\u001b[1;32m   1881\u001b[0m                 \u001b[0mf\u001b[0m\u001b[0;34m,\u001b[0m\u001b[0;34m\u001b[0m\u001b[0;34m\u001b[0m\u001b[0m\n\u001b[1;32m   1882\u001b[0m                 \u001b[0mmode\u001b[0m\u001b[0;34m,\u001b[0m\u001b[0;34m\u001b[0m\u001b[0;34m\u001b[0m\u001b[0m\n",
            "\u001b[0;32m/usr/local/lib/python3.11/dist-packages/pandas/io/common.py\u001b[0m in \u001b[0;36mget_handle\u001b[0;34m(path_or_buf, mode, encoding, compression, memory_map, is_text, errors, storage_options)\u001b[0m\n\u001b[1;32m    871\u001b[0m         \u001b[0;32mif\u001b[0m \u001b[0mioargs\u001b[0m\u001b[0;34m.\u001b[0m\u001b[0mencoding\u001b[0m \u001b[0;32mand\u001b[0m \u001b[0;34m\"b\"\u001b[0m \u001b[0;32mnot\u001b[0m \u001b[0;32min\u001b[0m \u001b[0mioargs\u001b[0m\u001b[0;34m.\u001b[0m\u001b[0mmode\u001b[0m\u001b[0;34m:\u001b[0m\u001b[0;34m\u001b[0m\u001b[0;34m\u001b[0m\u001b[0m\n\u001b[1;32m    872\u001b[0m             \u001b[0;31m# Encoding\u001b[0m\u001b[0;34m\u001b[0m\u001b[0;34m\u001b[0m\u001b[0m\n\u001b[0;32m--> 873\u001b[0;31m             handle = open(\n\u001b[0m\u001b[1;32m    874\u001b[0m                 \u001b[0mhandle\u001b[0m\u001b[0;34m,\u001b[0m\u001b[0;34m\u001b[0m\u001b[0;34m\u001b[0m\u001b[0m\n\u001b[1;32m    875\u001b[0m                 \u001b[0mioargs\u001b[0m\u001b[0;34m.\u001b[0m\u001b[0mmode\u001b[0m\u001b[0;34m,\u001b[0m\u001b[0;34m\u001b[0m\u001b[0;34m\u001b[0m\u001b[0m\n",
            "\u001b[0;31mFileNotFoundError\u001b[0m: [Errno 2] No such file or directory: '/content/Car Data.csv'"
          ]
        }
      ]
    },
    {
      "cell_type": "code",
      "source": [
        "print(df.tail)"
      ],
      "metadata": {
        "colab": {
          "base_uri": "https://localhost:8080/"
        },
        "id": "h7W7kX3-9GPG",
        "outputId": "d3f09c3c-672f-4644-8944-4ed11c7b8233"
      },
      "execution_count": null,
      "outputs": [
        {
          "output_type": "stream",
          "name": "stdout",
          "text": [
            "<bound method NDFrame.tail of                  Car  Year  KM Driven   Color Transmission      Owner  \\\n",
            "0             BMW X5  2012     342358   White    Automatic  1st owner   \n",
            "1            Audi A3  2017     130000     Red       Manual  2nd owner   \n",
            "2   Mercedes S-Class  2020      92450   Black    Automatic  3rd owner   \n",
            "3             BMW X5  2020      76240   White    Automatic  2nd owner   \n",
            "4             BMW X3  2021      17283   White       Manual  1st owner   \n",
            "5        Lexus RX350  2020      98312     Red    Automatic  3rd owner   \n",
            "6             BMW X3  2018     156784    Blue       Manual  3rd owner   \n",
            "7             BMW X5  2019      52034    Blue    Automatic  1st owner   \n",
            "8       BMW 3 Series  2011     205204     Red    Automatic  2nd owner   \n",
            "9   Mercedes S-Class  2014     152985   Black    Automatic  2nd owner   \n",
            "10     Tesla Model 3  2018      76429  Yellow    Automatic  1st owner   \n",
            "11        Volvo XC90  2013     254028   Black       Manual  2nd owner   \n",
            "12           Audi Q7  2014      45832   White       Manual  1st owner   \n",
            "13      Cadillac XT5  2018      67591    Blue    Automatic  2nd owner   \n",
            "14         Jaguar XF  2013      85320   White    Automatic  2nd owner   \n",
            "15       Lexus RX350  2016       5000   White    Automatic  1st owner   \n",
            "16          BMW 428i  2017      92450     Red       Manual  2nd owner   \n",
            "17       Lexus RX350  2015     130000   Black    Automatic  4th owner   \n",
            "\n",
            "    Price (USD)   Company  \n",
            "0         15400       BMW  \n",
            "1         24321      Audi  \n",
            "2        102342  Mercedes  \n",
            "3         55272       BMW  \n",
            "4         42000       BMW  \n",
            "5         51292     Lexus  \n",
            "6         37605       BMW  \n",
            "7         45000       BMW  \n",
            "8         13241       BMW  \n",
            "9         49344  Mercedes  \n",
            "10        52432     Tesla  \n",
            "11        17452     Volvo  \n",
            "12        23250      Audi  \n",
            "13        32420  Cadillac  \n",
            "14        18454    Jaguar  \n",
            "15        41000     Lexus  \n",
            "16        35240       BMW  \n",
            "17        22520     Lexus  >\n"
          ]
        }
      ]
    },
    {
      "cell_type": "code",
      "source": [
        "print(df.tail()) # Enable to view the last five rows of te data set"
      ],
      "metadata": {
        "colab": {
          "base_uri": "https://localhost:8080/"
        },
        "id": "pgBpcUVN9me9",
        "outputId": "e15f911b-7f2a-48e6-b52b-944418895207"
      },
      "execution_count": null,
      "outputs": [
        {
          "output_type": "stream",
          "name": "stdout",
          "text": [
            "             Car  Year  KM Driven  Color Transmission      Owner  Price (USD)  \\\n",
            "13  Cadillac XT5  2018      67591   Blue    Automatic  2nd owner        32420   \n",
            "14     Jaguar XF  2013      85320  White    Automatic  2nd owner        18454   \n",
            "15   Lexus RX350  2016       5000  White    Automatic  1st owner        41000   \n",
            "16      BMW 428i  2017      92450    Red       Manual  2nd owner        35240   \n",
            "17   Lexus RX350  2015     130000  Black    Automatic  4th owner        22520   \n",
            "\n",
            "     Company  \n",
            "13  Cadillac  \n",
            "14    Jaguar  \n",
            "15     Lexus  \n",
            "16       BMW  \n",
            "17     Lexus  \n"
          ]
        }
      ]
    },
    {
      "cell_type": "code",
      "source": [
        "print(df.tail(15))  # print the first 15 rows of the dataset"
      ],
      "metadata": {
        "colab": {
          "base_uri": "https://localhost:8080/"
        },
        "id": "zPVhEKqn9uqc",
        "outputId": "eb5debc0-8cac-41f2-8c01-93a3d54cef2f"
      },
      "execution_count": null,
      "outputs": [
        {
          "output_type": "stream",
          "name": "stdout",
          "text": [
            "                 Car  Year  KM Driven   Color Transmission      Owner  \\\n",
            "3             BMW X5  2020      76240   White    Automatic  2nd owner   \n",
            "4             BMW X3  2021      17283   White       Manual  1st owner   \n",
            "5        Lexus RX350  2020      98312     Red    Automatic  3rd owner   \n",
            "6             BMW X3  2018     156784    Blue       Manual  3rd owner   \n",
            "7             BMW X5  2019      52034    Blue    Automatic  1st owner   \n",
            "8       BMW 3 Series  2011     205204     Red    Automatic  2nd owner   \n",
            "9   Mercedes S-Class  2014     152985   Black    Automatic  2nd owner   \n",
            "10     Tesla Model 3  2018      76429  Yellow    Automatic  1st owner   \n",
            "11        Volvo XC90  2013     254028   Black       Manual  2nd owner   \n",
            "12           Audi Q7  2014      45832   White       Manual  1st owner   \n",
            "13      Cadillac XT5  2018      67591    Blue    Automatic  2nd owner   \n",
            "14         Jaguar XF  2013      85320   White    Automatic  2nd owner   \n",
            "15       Lexus RX350  2016       5000   White    Automatic  1st owner   \n",
            "16          BMW 428i  2017      92450     Red       Manual  2nd owner   \n",
            "17       Lexus RX350  2015     130000   Black    Automatic  4th owner   \n",
            "\n",
            "    Price (USD)   Company  \n",
            "3         55272       BMW  \n",
            "4         42000       BMW  \n",
            "5         51292     Lexus  \n",
            "6         37605       BMW  \n",
            "7         45000       BMW  \n",
            "8         13241       BMW  \n",
            "9         49344  Mercedes  \n",
            "10        52432     Tesla  \n",
            "11        17452     Volvo  \n",
            "12        23250      Audi  \n",
            "13        32420  Cadillac  \n",
            "14        18454    Jaguar  \n",
            "15        41000     Lexus  \n",
            "16        35240       BMW  \n",
            "17        22520     Lexus  \n"
          ]
        }
      ]
    },
    {
      "cell_type": "code",
      "source": [
        "print(df.tail(30)) # print the first 30 rows of the dataset"
      ],
      "metadata": {
        "colab": {
          "base_uri": "https://localhost:8080/"
        },
        "id": "TPDaRyuq90OF",
        "outputId": "1a9a2bea-b3b5-42ba-9201-d1898f9779d5"
      },
      "execution_count": null,
      "outputs": [
        {
          "output_type": "stream",
          "name": "stdout",
          "text": [
            "                 Car  Year  KM Driven   Color Transmission      Owner  \\\n",
            "0             BMW X5  2012     342358   White    Automatic  1st owner   \n",
            "1            Audi A3  2017     130000     Red       Manual  2nd owner   \n",
            "2   Mercedes S-Class  2020      92450   Black    Automatic  3rd owner   \n",
            "3             BMW X5  2020      76240   White    Automatic  2nd owner   \n",
            "4             BMW X3  2021      17283   White       Manual  1st owner   \n",
            "5        Lexus RX350  2020      98312     Red    Automatic  3rd owner   \n",
            "6             BMW X3  2018     156784    Blue       Manual  3rd owner   \n",
            "7             BMW X5  2019      52034    Blue    Automatic  1st owner   \n",
            "8       BMW 3 Series  2011     205204     Red    Automatic  2nd owner   \n",
            "9   Mercedes S-Class  2014     152985   Black    Automatic  2nd owner   \n",
            "10     Tesla Model 3  2018      76429  Yellow    Automatic  1st owner   \n",
            "11        Volvo XC90  2013     254028   Black       Manual  2nd owner   \n",
            "12           Audi Q7  2014      45832   White       Manual  1st owner   \n",
            "13      Cadillac XT5  2018      67591    Blue    Automatic  2nd owner   \n",
            "14         Jaguar XF  2013      85320   White    Automatic  2nd owner   \n",
            "15       Lexus RX350  2016       5000   White    Automatic  1st owner   \n",
            "16          BMW 428i  2017      92450     Red       Manual  2nd owner   \n",
            "17       Lexus RX350  2015     130000   Black    Automatic  4th owner   \n",
            "\n",
            "    Price (USD)   Company  \n",
            "0         15400       BMW  \n",
            "1         24321      Audi  \n",
            "2        102342  Mercedes  \n",
            "3         55272       BMW  \n",
            "4         42000       BMW  \n",
            "5         51292     Lexus  \n",
            "6         37605       BMW  \n",
            "7         45000       BMW  \n",
            "8         13241       BMW  \n",
            "9         49344  Mercedes  \n",
            "10        52432     Tesla  \n",
            "11        17452     Volvo  \n",
            "12        23250      Audi  \n",
            "13        32420  Cadillac  \n",
            "14        18454    Jaguar  \n",
            "15        41000     Lexus  \n",
            "16        35240       BMW  \n",
            "17        22520     Lexus  \n"
          ]
        }
      ]
    },
    {
      "cell_type": "code",
      "source": [
        "print(\"\\nChecking for missing values:\")\n",
        "print(df.isnull().sum())\n",
        "df = df.dropna()"
      ],
      "metadata": {
        "colab": {
          "base_uri": "https://localhost:8080/"
        },
        "id": "pY41UPUy95XE",
        "outputId": "45fb10d5-0a1f-4389-c9eb-ac40ed6a074c"
      },
      "execution_count": null,
      "outputs": [
        {
          "output_type": "stream",
          "name": "stdout",
          "text": [
            "\n",
            "Checking for missing values:\n",
            "Car             0\n",
            "Year            0\n",
            "KM Driven       0\n",
            "Color           0\n",
            "Transmission    0\n",
            "Owner           0\n",
            "Price (USD)     0\n",
            "Company         0\n",
            "dtype: int64\n"
          ]
        }
      ]
    },
    {
      "cell_type": "code",
      "source": [
        "print(\"\\nChecking for duplicate:\")\n",
        "print(df.duplicated().sum())\n",
        "df = df.drop_duplicates()"
      ],
      "metadata": {
        "colab": {
          "base_uri": "https://localhost:8080/"
        },
        "id": "-jp4tl8l9-0u",
        "outputId": "6b103f2b-54aa-4d24-bd30-21e90e80e2a0"
      },
      "execution_count": null,
      "outputs": [
        {
          "output_type": "stream",
          "name": "stdout",
          "text": [
            "\n",
            "Checking for duplicate:\n",
            "0\n"
          ]
        }
      ]
    },
    {
      "cell_type": "code",
      "source": [
        "print(\"\\nChecking for categoricals:\")\n",
        "categorical_cols = df.select_dtypes(include=['object']).columns\n",
        "label_encoders = {}\n",
        "for col in categorical_cols:\n",
        "  le = LabelEncoder()\n",
        "  df[col] = le.fit_transform(df[col])\n",
        "  label_encoders[col] = le\n",
        "\n",
        "print(df.head())"
      ],
      "metadata": {
        "colab": {
          "base_uri": "https://localhost:8080/"
        },
        "id": "UZUe0mfE-OAg",
        "outputId": "8d871407-7555-4ad1-9e6c-fa31cf2cf91c"
      },
      "execution_count": null,
      "outputs": [
        {
          "output_type": "stream",
          "name": "stdout",
          "text": [
            "\n",
            "Checking for categoricals:\n",
            "   Car  Year  KM Driven  Color  Transmission  Owner  Price (USD)  Company\n",
            "0    5  2012     342358      3             0      0        15400        1\n",
            "1    0  2017     130000      2             1      1        24321        0\n",
            "2    9  2020      92450      0             0      2       102342        5\n",
            "3    5  2020      76240      3             0      1        55272        1\n",
            "4    4  2021      17283      3             1      0        42000        1\n"
          ]
        }
      ]
    },
    {
      "cell_type": "code",
      "source": [
        "print(\"\\nApplying feature scaling\")\n",
        "numeric_cols = df.select_dtypes(include=[np.number]).columns\n",
        "scaler = StandardScaler()\n",
        "df[numeric_cols] = scaler.fit_transform(df[numeric_cols])\n",
        "print(df.head())"
      ],
      "metadata": {
        "colab": {
          "base_uri": "https://localhost:8080/"
        },
        "id": "pw4Dh5nY-Vd1",
        "outputId": "252fcaf2-edfc-400e-85e7-ce3348ba3c2f"
      },
      "execution_count": null,
      "outputs": [
        {
          "output_type": "stream",
          "name": "stdout",
          "text": [
            "\n",
            "Applying feature scaling\n",
            "        Car      Year  KM Driven     Color  Transmission     Owner  \\\n",
            "0 -0.272367 -1.488646   2.770610  0.927173     -0.707107 -1.113707   \n",
            "1 -1.906571  0.186081   0.176262  0.132453      1.414214  0.065512   \n",
            "2  1.034996  1.190917  -0.282481 -1.456986     -0.707107  1.244731   \n",
            "3 -0.272367  1.190917  -0.480516  0.927173     -0.707107  0.065512   \n",
            "4 -0.599208  1.525862  -1.200786  0.927173      1.414214 -1.113707   \n",
            "\n",
            "   Price (USD)   Company  \n",
            "0    -1.082696 -0.762894  \n",
            "1    -0.649553 -1.236414  \n",
            "2     3.138617  1.131187  \n",
            "3     0.853217 -0.762894  \n",
            "4     0.208819 -0.762894  \n"
          ]
        }
      ]
    },
    {
      "cell_type": "code",
      "source": [
        "print(\"\\nSpiltting Dataset into training and Testing sets:\")\n",
        "x = df.drop(columns=['Car'])\n",
        "y = df['Car']\n",
        "x_train, x_test, y_train, y_test = train_test_split(x, y, test_size=0.2, random_state=42)\n",
        "print(f\"Training set size:{x_train.shape}, Testing set size: {x_test.shape}\")\n",
        "print(\"\\nData Preprocessing Completed!!\")"
      ],
      "metadata": {
        "colab": {
          "base_uri": "https://localhost:8080/"
        },
        "id": "_JBMiAUa-aLs",
        "outputId": "64f638b0-98ca-4ca3-9a14-299748fb2416"
      },
      "execution_count": null,
      "outputs": [
        {
          "output_type": "stream",
          "name": "stdout",
          "text": [
            "\n",
            "Spiltting Dataset into training and Testing sets:\n",
            "Training set size:(14, 7), Testing set size: (4, 7)\n",
            "\n",
            "Data Preprocessing Completed!!\n"
          ]
        }
      ]
    }
  ]
}